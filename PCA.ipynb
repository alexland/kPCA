{
 "metadata": {
  "name": "",
  "signature": "sha256:93b21d7d2fb308ca1469223cb3b76bb169746489fa93305b2b1f18797d6c28a5"
 },
 "nbformat": 3,
 "nbformat_minor": 0,
 "worksheets": [
  {
   "cells": [
    {
     "cell_type": "code",
     "collapsed": false,
     "input": [
      "#TODO: "
     ],
     "language": "python",
     "metadata": {},
     "outputs": [],
     "prompt_number": 1
    },
    {
     "cell_type": "code",
     "collapsed": false,
     "input": [
      "import os\n",
      "import sys\n",
      "from math import ceil\n",
      "import jinja2\n",
      "import warnings\n",
      "import numpy as NP\n",
      "from scipy import linalg as LA\n",
      "from scipy.linalg import blas as BLAS\n",
      "\n",
      "from scipy.sparse import dok_matrix as DO\n",
      "from collections import OrderedDict\n",
      "from IPython.html.widgets import interact\n",
      "from IPython.html import widgets\n",
      "from IPython.display import display, display_pretty, Javascript, HTML\n",
      "from IPython.utils.traitlets import Any, Bool, Dict, List, Unicode\n",
      "from threading import Lock\n",
      "from urllib.request import urlopen\n",
      "\n",
      "# %matplotlib inline\n",
      "# from matplotlib import pyplot as PLT\n",
      "\n",
      "NP.set_printoptions(precision=3, suppress=True)\n",
      "warnings.filterwarnings(\"ignore\", \"ComplexWarning\")\n",
      "\n",
      "%load_ext cythonmagic"
     ],
     "language": "python",
     "metadata": {},
     "outputs": [],
     "prompt_number": 1
    },
    {
     "cell_type": "code",
     "collapsed": false,
     "input": [
      "\n",
      "def str2num(t):\n",
      "    return ( int(t[0]), float(t[1]) )\n",
      "\n",
      "def parse_line(line):\n",
      "    '''\n",
      "    returns:\n",
      "        (i) score (scalar);\n",
      "        (ii) adjacency dict (one row in sparse 2D array)\n",
      "    pass in:\n",
      "    '''\n",
      "    S, tx = line.split(maxsplit=1)\n",
      "    tx = ( line.strip().split(':') for line in tx.split() )\n",
      "    return S, {k:v for k, v in map(str2num, tx)}\n",
      "\n",
      "\n",
      "def file_opener(data_file):\n",
      "    '''\n",
      "    returns:\n",
      "    pass in: data_file as str, relative path from 'User' dir\n",
      "    '''\n",
      "    dfile = os.path.expanduser(data_file)\n",
      "    with open(dfile, 'r', encoding='utf-8') as fh:\n",
      "        d = (line for line in fh.readlines())\n",
      "        d = (parse_line(line) for line in d)\n",
      "        d = list(d)\n",
      "    return d\n",
      "\n",
      "def data2sparse_array(data):\n",
      "    max_key_val = 0\n",
      "    for i in range(len(d)):\n",
      "        k = max(d[i][1].keys())\n",
      "        if k > max_key_val:\n",
      "            max_key_val = k\n",
      "        ncols = max_key_val\n",
      "        nrows = len(d)\n",
      "    D = DOK((nrows, ncols), dtype=float)\n",
      "    S = NP.empty((nrows, 1))\n",
      "    for i in range(nrows):\n",
      "        s, adict = d[i]\n",
      "        S[i] = s\n",
      "    for j in range(ncols):\n",
      "        D[i,j] = adict.get(j) \n"
     ],
     "language": "python",
     "metadata": {},
     "outputs": [],
     "prompt_number": 2
    },
    {
     "cell_type": "code",
     "collapsed": false,
     "input": [
      "data_file = os.path.expanduser('~/Projects/kPCA/data/authorship.csv')\n",
      "\n",
      "def data_in(dfile):\n",
      "    '''\n",
      "    returns:\n",
      "        (i) data as 2D numpy array\n",
      "        (ii) column headers as python list of strings\n",
      "        (iii) look-up table, to translate class labels back to \n",
      "            string representations\n",
      "    pass in:\n",
      "    '''\n",
      "    with open(dfile, 'r', encoding='utf-8') as fh:\n",
      "        d = [line.strip().split(',') for line in fh.readlines()]\n",
      "    col_headers = d.pop(0)\n",
      "    cl = [line[-1] for line in d]\n",
      "    d = NP.array([list(map(int, line[:-1])) for line in d])\n",
      "    scl = set(cl)\n",
      "    LuT = {k:v for k, v in zip(scl, range(len(scl)))}\n",
      "    cl = NP.array([LuT[label] for label in cl])\n",
      "    cl = cl.reshape(-1, 1)\n",
      "    d = NP.hstack((d, cl))\n",
      "    idx = NP.arange(d.shape[0])\n",
      "    NP.random.shuffle(idx)\n",
      "    d = d[idx,]\n",
      "    return d, col_headers, LuT"
     ],
     "language": "python",
     "metadata": {},
     "outputs": [],
     "prompt_number": 3
    },
    {
     "cell_type": "code",
     "collapsed": false,
     "input": [
      "dfile = os.path.expanduser('~/Projects/kPCA/data/authorship.csv')"
     ],
     "language": "python",
     "metadata": {},
     "outputs": [],
     "prompt_number": 4
    },
    {
     "cell_type": "markdown",
     "metadata": {},
     "source": [
      "Three approaches to *Dimension Reduction*:\n",
      "\n",
      "* feature selection: iterate thorugh the features and eliminate those uncorrelated with the output (explanatory) variable;\n",
      "\n",
      "* clustering: if groups of data points can be reliably identifyed by some clustering technique then this suggests that fewer features can be used to separate the data\n",
      "\n",
      "* feature derivation: via some sort of transformation, derive new features from the old ones"
     ]
    },
    {
     "cell_type": "heading",
     "level": 2,
     "metadata": {},
     "source": [
      "PCA/LDA"
     ]
    },
    {
     "cell_type": "markdown",
     "metadata": {},
     "source": [
      "LDA here is _Linear Discriminant Analysis_ and not _Latent Dirichlet Allocation_; i have read textbooks that explain both LDA and PCA without mentioning any connection between the two (other than perhaps that they are both dimension-reduction techniques); however, on a practical level LDA is just PCA in which the response variable column (class labels/scores) is not removed from the 2D array passed in."
     ]
    },
    {
     "cell_type": "code",
     "collapsed": false,
     "input": [
      "def PCA(D, num_eigenvalues=None, EV=0, LDA=0):\n",
      "    '''\n",
      "    pass in: \n",
      "        (i) a raw data array--features encoded in the cols;\n",
      "            one data instance per row; \n",
      "        (ii) EV, explanatory variable, is included in D as last column;\n",
      "        (iii) the LDA flag is set to False so PCA is the default techique;\n",
      "            if both LDA & EV are set to True then LDA is performed\n",
      "            instead of PCA\n",
      "    returns:\n",
      "        (i) eigenvalues (1D array);\n",
      "        (ii) eigenvectors (2D array)\n",
      "        (iii) covariance matrix\n",
      "        \n",
      "    some numerical assertions:\n",
      "    \n",
      "    >>> # sum of the eigenvalues is equal to trace of R    \n",
      "    >>> x = R.trace()\n",
      "    >>> x1 = eva.sum()\n",
      "    >>> NP.allclose(x, x1)\n",
      "    True\n",
      "    \n",
      "    >>> # determinant of R is product of eigenvalues\n",
      "    >>> q = LA.det(R)\n",
      "    >>> q1 = NP.prod(eva)\n",
      "    >>> NP.allclose(q, q1)\n",
      "    True\n",
      "    '''\n",
      "    if not (LDA & EV):\n",
      "        D, EV = NP.hsplit(D, [-1])\n",
      "    # D -= D.mean(axis=0)\n",
      "    R = NP.corrcoef(D, rowvar=False)\n",
      "    m, n = R.shape\n",
      "    if num_eigenvalues:\n",
      "        num_eigenvalues = (m - num_eigenvalues, m-1)\n",
      "    eva, evc = LA.eigh(R, eigvals=num_eigenvalues)\n",
      "    NP.ascontiguousarray(evc)  \n",
      "    NP.ascontiguousarray(eva)\n",
      "    idx = NP.argsort(eva)[::-1]\n",
      "    evc = evc[:,idx]\n",
      "    eva = eva[idx]\n",
      "    return eva, evc, R\n",
      "    "
     ],
     "language": "python",
     "metadata": {},
     "outputs": [],
     "prompt_number": 61
    },
    {
     "cell_type": "code",
     "collapsed": false,
     "input": [
      "%%cython\n",
      "\n",
      "import numpy as NP\n",
      "from scipy import linalg as LA\n",
      "cimport cython\n",
      "cimport numpy as NP\n",
      "from cpython.pycapsule cimport *\n",
      "from libc.math cimport sqrt, pow, log, exp\n",
      "from libc.stdlib cimport malloc, realloc, free\n",
      "\n",
      "@cython.boundscheck(False)\n",
      "@cython.wraparound(False)\n",
      "cpdef PCA_1(long[:,::1] d, int num_eigenvalues):\n",
      "    cdef:\n",
      "        int m\n",
      "        double[:,::1] R\n",
      "        # double [::1] idx\n",
      "        double[::1] eva_mv\n",
      "        double[:,::1] evc_mv\n",
      "        \n",
      "    R = NP.corrcoef(d, rowvar=False)\n",
      "    m = R.shape[0]\n",
      "    eva, evc = LA.eigh(R, eigvals=(m-num_eigenvalues, m-1))\n",
      "    NP.ascontiguousarray(evc)  \n",
      "    idx = NP.argsort(eva)[::-1]\n",
      "    evc = evc[:,idx]\n",
      "    eva = eva[idx]\n",
      "    return eva, evc, R\n",
      "    "
     ],
     "language": "python",
     "metadata": {},
     "outputs": [],
     "prompt_number": 62
    },
    {
     "cell_type": "code",
     "collapsed": false,
     "input": [
      "dfile = os.path.expanduser('~/Projects/kPCA/data/authorship.csv')\n",
      "d, col_headers, LuT = data_in(dfile)\n",
      "\n",
      "# verify that R is a symmetric matrix, if so use 'eigh' vs 'eig'\n",
      "# for significant performance improvement\n",
      "\n",
      "R = NP.corrcoef(d, rowvar=False)\n",
      "NP.allclose(R, R.T)\n",
      "\n",
      "eva, evc, R = PCA(d, num_eigenvalues=10)\n",
      "print(eva)"
     ],
     "language": "python",
     "metadata": {},
     "outputs": [
      {
       "output_type": "stream",
       "stream": "stdout",
       "text": [
        "[ 10.8     7.524   4.443   2.938   2.041   1.764   1.478   1.444   1.22\n",
        "   1.205]\n"
       ]
      }
     ],
     "prompt_number": 63
    },
    {
     "cell_type": "code",
     "collapsed": false,
     "input": [
      "%timeit PCA(d, num_eigenvalues=10)"
     ],
     "language": "python",
     "metadata": {},
     "outputs": [
      {
       "output_type": "stream",
       "stream": "stdout",
       "text": [
        "1000 loops, best of 3: 1.51 ms per loop\n"
       ]
      }
     ],
     "prompt_number": 64
    },
    {
     "cell_type": "code",
     "collapsed": false,
     "input": [
      "%timeit PCA_1(d, 10)"
     ],
     "language": "python",
     "metadata": {},
     "outputs": [
      {
       "output_type": "stream",
       "stream": "stdout",
       "text": [
        "1000 loops, best of 3: 1.42 ms per loop\n"
       ]
      }
     ],
     "prompt_number": 65
    },
    {
     "cell_type": "code",
     "collapsed": false,
     "input": [],
     "language": "python",
     "metadata": {},
     "outputs": [],
     "prompt_number": 65
    },
    {
     "cell_type": "markdown",
     "metadata": {},
     "source": [
      "get V-matrix like so:\n",
      "\n",
      "* set-up one system of equations (ax = b) for each eigenvalue--ie, for each eigenvalue, substitute it for each element in the main diagonal of R (a)\n",
      "\n",
      "* set this modidfied R x a column-array of variables (x) equal to a column array of zeros (b) and solve for the column array of variables on the LHS\n",
      "\n",
      "* solving each of these systems gives one column in the V matrix"
     ]
    },
    {
     "cell_type": "code",
     "collapsed": false,
     "input": [
      "\n",
      "def solve_sim_eq(one_eva, R):\n",
      "    '''\n",
      "    setting up sytem of homogeneous equations, ax=b;\n",
      "        one sytem for each eigenvalue\n",
      "    '''\n",
      "    A = R.copy()\n",
      "    tx = NP.zeros_like(R)\n",
      "    NP.fill_diagonal(tx, one_eva)\n",
      "    A -= tx\n",
      "    b = NP.zeros(A.shape[1])\n",
      "    U, s, Vh = LA.svd(A)\n",
      "    # x corresponds to last column of Vh.T\n",
      "    return Vh.T[:,-1]\n",
      "    \n",
      "def calc_vmatrix(eva, R):\n",
      "    '''\n",
      "    >>> V = calc_vmatrix(eva, R)\n",
      "    >>> assert V.shape == R.shape\n",
      "    \n",
      "    >>> # assert V x V.T = I\n",
      "    >>> X1 = NP.eye(V.shape[0])\n",
      "    >>> X = NP.dot(V, V.T)\n",
      "    array([[ 1., -0., -0.],\n",
      "        [-0.,  1., -0.],\n",
      "        [-0., -0.,  1.]])\n",
      "    >>> NP.allclose(X1, X)\n",
      "    True\n",
      "    '''\n",
      "    V = NP.empty_like(R)\n",
      "    for i in range(eva.shape[0]):\n",
      "        V[:,i] = solve_sim_eq(eva[i], R)\n",
      "    return V"
     ],
     "language": "python",
     "metadata": {},
     "outputs": [],
     "prompt_number": 66
    },
    {
     "cell_type": "markdown",
     "metadata": {},
     "source": [
      "form the L12 matrix"
     ]
    },
    {
     "cell_type": "code",
     "collapsed": false,
     "input": [
      "\n",
      "def calc_L12(eva):\n",
      "    '''\n",
      "    returns:\n",
      "    pass in:\n",
      "    L1/2 (written w/ '1/2' as L superscript) is a diagonal matrix whose elements are the square\n",
      "        roots of the eigenvalues of R\n",
      "    '''\n",
      "    return NP.diag(NP.sqrt(eva))\n"
     ],
     "language": "python",
     "metadata": {},
     "outputs": [],
     "prompt_number": 67
    },
    {
     "cell_type": "markdown",
     "metadata": {},
     "source": [
      "calculate the Factor Structure, S = V * L12"
     ]
    },
    {
     "cell_type": "code",
     "collapsed": false,
     "input": [
      "\n",
      "def calc_factor_structure(V, L12):\n",
      "    return BLAS.dgemm(alpha=1.0, a=V, b=L12, trans_b=False)"
     ],
     "language": "python",
     "metadata": {},
     "outputs": [],
     "prompt_number": 104
    },
    {
     "cell_type": "markdown",
     "metadata": {},
     "source": [
      "form communality"
     ]
    },
    {
     "cell_type": "code",
     "collapsed": false,
     "input": [
      "\n",
      "def calc_communality(S, num_eigenvals):\n",
      "    '''\n",
      "    returns: communality vector, C, 1D array len is equal to # featurs\n",
      "        in original 2D data array;\n",
      "    pass in:\n",
      "        (i) factor structure array, S\n",
      "        (ii) number of eigenvalues to consider, int\n",
      "        \n",
      "    '''\n",
      "    s1 = S[:,:num_eigenvals]\n",
      "    C = BLAS.dgemm(alpha=1.0, a=s1, b=s1.T, trans_b=False)\n",
      "    return NP.diag(C)\n"
     ],
     "language": "python",
     "metadata": {},
     "outputs": [],
     "prompt_number": 105
    },
    {
     "cell_type": "code",
     "collapsed": false,
     "input": [
      "def print_communality(C, num_features, num_eigenvalues):\n",
      "    '''\n",
      "    returns: None\n",
      "    pass in: \n",
      "        (i) communality (result returned form calc_communality)\n",
      "        (ii) num_features, int\n",
      "        (iii) num_eigenvalues, int\n",
      "    '''\n",
      "    s = '''the first {} principal components explain {:.2f}% of feature {}'''\n",
      "    for i in range(num_features):\n",
      "        print(s.format(num_eigenvalues, c[i]*100, i+1))"
     ],
     "language": "python",
     "metadata": {},
     "outputs": [],
     "prompt_number": 106
    },
    {
     "cell_type": "markdown",
     "metadata": {},
     "source": [
      "coefficient matrix, B\n",
      "\n",
      "formed using recrirocals of the diagonals of L12"
     ]
    },
    {
     "cell_type": "code",
     "collapsed": false,
     "input": [
      "\n",
      "def calc_coeff_matrix(V, L12):\n",
      "    '''\n",
      "    returns:\n",
      "    \n",
      "    pass in:\n",
      "    \n",
      "    '''\n",
      "    L12a = L12.copy()\n",
      "    d = NP.diag(L12a)\n",
      "    NP.fill_diagonal(L12a, x)\n",
      "    return NP.dot(V, L12)\n",
      "    "
     ],
     "language": "python",
     "metadata": {},
     "outputs": [],
     "prompt_number": 107
    },
    {
     "cell_type": "markdown",
     "metadata": {},
     "source": [
      "factor scores, F = Z x B"
     ]
    },
    {
     "cell_type": "code",
     "collapsed": false,
     "input": [
      "\n",
      "def calc_factor_scores(D, B):\n",
      "    '''\n",
      "    returns:\n",
      "    \n",
      "    pass in:\n",
      "        (i) data, 2D NumPy array\n",
      "        (ii) coefficient matrix\n",
      "    '''\n",
      "    tx -= D.mean(axis=0)\n",
      "    Z /= tx.std(axis=0)\n",
      "    return NP.dot(Z, B)\n",
      "    "
     ],
     "language": "python",
     "metadata": {},
     "outputs": [],
     "prompt_number": 108
    },
    {
     "cell_type": "code",
     "collapsed": false,
     "input": [
      "%doctest_mode"
     ],
     "language": "python",
     "metadata": {},
     "outputs": [
      {
       "output_type": "stream",
       "stream": "stdout",
       "text": [
        "Exception reporting mode: Plain\n",
        "Doctest mode is: ON\n"
       ]
      }
     ],
     "prompt_number": 109
    },
    {
     "cell_type": "code",
     "collapsed": false,
     "input": [
      "import numpy as NP\n",
      "\n",
      "d, col_headers, LuT = data_in(data_file)\n",
      "\n",
      "eva, evc, R = PCA(d)\n",
      "V = get_vmatrix(eva, R)\n",
      "L12 = get_L12(eva)\n",
      "S = get_factor_structure(V, L12)\n",
      "C = get_communality(S, num_eigenvals=7)\n",
      "\n",
      "print(S.shape)"
     ],
     "language": "python",
     "metadata": {},
     "outputs": [
      {
       "output_type": "stream",
       "stream": "stdout",
       "text": [
        "(70, 70)\n"
       ]
      }
     ],
     "prompt_number": 74
    },
    {
     "cell_type": "code",
     "collapsed": false,
     "input": [
      "c = calc_communality(S, num_eigenvals=7)\n",
      "\n",
      "print(c[:10])"
     ],
     "language": "python",
     "metadata": {},
     "outputs": [
      {
       "output_type": "stream",
       "stream": "stdout",
       "text": [
        "[ 0.412  0.371  0.269  0.686  0.6    0.53   0.541  0.333  0.43   0.684]\n"
       ]
      }
     ],
     "prompt_number": 110
    },
    {
     "cell_type": "code",
     "collapsed": false,
     "input": [
      "print_communality(c, 5, 7)"
     ],
     "language": "python",
     "metadata": {},
     "outputs": [
      {
       "output_type": "stream",
       "stream": "stdout",
       "text": [
        "the first 7 principal components explain 41.21% of feature 1\n",
        "the first 7 principal components explain 37.09% of feature 2\n",
        "the first 7 principal components explain 26.85% of feature 3\n",
        "the first 7 principal components explain 68.65% of feature 4\n",
        "the first 7 principal components explain 60.00% of feature 5\n"
       ]
      }
     ],
     "prompt_number": 76
    },
    {
     "cell_type": "heading",
     "level": 3,
     "metadata": {},
     "source": [
      "variance explained"
     ]
    },
    {
     "cell_type": "code",
     "collapsed": false,
     "input": [
      "\n",
      "def eigenvalue_variance_display(eva, num_eigenvalues):\n",
      "    eva = eva[:num_eigenvalues]\n",
      "    eva = eva/eva.sum()\n",
      "    eva_cs = eva.cumsum()\n",
      "    s = 'eigenvalue        value%'\n",
      "    s1 = '_' * len(s)\n",
      "    print(s)\n",
      "    print(s1)\n",
      "    for i in range(eva.shape[0]):\n",
      "        print( '{:^10.3f} {:^20.2f}'.format(eva[i], 100*eva_cs[i]) )\n",
      "\n",
      "eigenvalue_variance_display(eva, 7)"
     ],
     "language": "python",
     "metadata": {},
     "outputs": [
      {
       "output_type": "stream",
       "stream": "stdout",
       "text": [
        "eigenvalue        value%\n",
        "________________________\n",
        "  0.349           34.85        \n",
        "  0.243           59.13        \n",
        "  0.143           73.47        \n",
        "  0.095           82.95        \n",
        "  0.066           89.54        \n",
        "  0.057           95.23        \n",
        "  0.048           100.00       \n"
       ]
      }
     ],
     "prompt_number": 77
    },
    {
     "cell_type": "code",
     "collapsed": false,
     "input": [
      "eigenvals, eigenvecs = eva.copy(), evc.copy()\n",
      "eigenvecs = NP.array(eigenvecs).T\n"
     ],
     "language": "python",
     "metadata": {},
     "outputs": [],
     "prompt_number": 79
    },
    {
     "cell_type": "code",
     "collapsed": false,
     "input": [
      "from IPython.display import Javascript\n",
      "import os"
     ],
     "language": "python",
     "metadata": {},
     "outputs": [],
     "prompt_number": 7
    },
    {
     "cell_type": "code",
     "collapsed": false,
     "input": [
      "%%javascript\n",
      "require.config({\n",
      "    paths: {\n",
      "        // d3: 'Users/dougybarbo/.ipython/profile_atelierforest-light/static/custom/d3.min'\n",
      "        d3: '//cdnjs.cloudflare.com/ajax/libs/d3/3.4.8/d3.min'\n",
      "    }\n",
      "});"
     ],
     "language": "python",
     "metadata": {},
     "outputs": [
      {
       "javascript": [
        "require.config({\n",
        "    paths: {\n",
        "        // d3: 'Users/dougybarbo/.ipython/profile_atelierforest-light/static/custom/d3.min'\n",
        "        d3: '//cdnjs.cloudflare.com/ajax/libs/d3/3.4.8/d3.min'\n",
        "    }\n",
        "});"
       ],
       "metadata": {},
       "output_type": "display_data",
       "text": [
        "<IPython.core.display.Javascript object>"
       ]
      }
     ],
     "prompt_number": 8
    },
    {
     "cell_type": "code",
     "collapsed": false,
     "input": [
      "display(HTML(\"\"\"\n",
      "<style>\n",
      ".bar {\n",
      "    fill: #ED872D;\n",
      "} \n",
      "\n",
      ".bar:hover {\n",
      "    fill: #003366;\n",
      "}\n",
      "\n",
      ".axis {\n",
      "    font: 11px sans-serif;\n",
      "    fill: #28589C;\n",
      "}\n",
      "\n",
      ".axis path, .axis line {\n",
      "    fill: none;\n",
      "    stroke: #A9A9A9;\n",
      "}\n",
      ".x.axis path {\n",
      "    display: none;\n",
      "}\n",
      "\n",
      "</style>\n",
      "<div id=\"chart_d3\"/>\n",
      "\"\"\"))"
     ],
     "language": "python",
     "metadata": {},
     "outputs": [
      {
       "html": [
        "\n",
        "<style>\n",
        ".bar {\n",
        "    fill: #ED872D;\n",
        "} \n",
        "\n",
        ".bar:hover {\n",
        "    fill: #003366;\n",
        "}\n",
        "\n",
        ".axis {\n",
        "    font: 11px sans-serif;\n",
        "    fill: #28589C;\n",
        "}\n",
        "\n",
        ".axis path, .axis line {\n",
        "    fill: none;\n",
        "    stroke: #A9A9A9;\n",
        "}\n",
        ".x.axis path {\n",
        "    display: none;\n",
        "}\n",
        "\n",
        "</style>\n",
        "<div id=\"chart_d3\"/>\n"
       ],
       "metadata": {},
       "output_type": "display_data",
       "text": [
        "<IPython.core.display.HTML object>"
       ]
      }
     ],
     "prompt_number": 9
    },
    {
     "cell_type": "code",
     "collapsed": false,
     "input": [
      "d3js_1_template = jinja2.Template(\n",
      "\"\"\"\n",
      "require([\"d3\"], function(d3) {\n",
      "    var data = []\n",
      "\n",
      "    {% for row in data %}\n",
      "    data.push({ 'evc': '{{ row[0] }}', 'cum_var_expl': {{ row[1] }} });\n",
      "    {% endfor %}\n",
      "\n",
      "    d3.select(\"#chart_d3 svg\").remove()\n",
      "\n",
      "    var margin = {top: 20, right: 20, bottom: 30, left: 40},\n",
      "        width = 660 - margin.left - margin.right,\n",
      "        height = 400 - margin.top - margin.bottom;\n",
      "\n",
      "    var x = d3.scale.ordinal()\n",
      "        .rangeRoundBands([0, width], .25);\n",
      "\n",
      "    var y = d3.scale.linear()\n",
      "        .range([height, 0]);\n",
      "\n",
      "    var xAxis = d3.svg.axis()\n",
      "        .scale(x)\n",
      "        .orient(\"bottom\");\n",
      "\n",
      "    var yAxis = d3.svg.axis()\n",
      "        .scale(y)\n",
      "        .orient(\"left\")\n",
      "        .ticks(10)\n",
      "        \n",
      "    var svg = d3.select(\"#chart_d3\").append(\"svg\")\n",
      "        .attr(\"width\", width + margin.left + margin.right)\n",
      "        .attr(\"height\", height + margin.top + margin.bottom)\n",
      "        .append(\"g\")\n",
      "        .attr(\"transform\", \"translate(\" + margin.left + \",\" + margin.top + \")\");\n",
      "\n",
      "    x.domain(data.map(function(d) { return d.evc; }));\n",
      "    y.domain([0, d3.max(data, function(d) { return d.cum_var_expl; })]);\n",
      "\n",
      "    svg.append(\"g\")\n",
      "        .attr(\"class\", \"x axis\")\n",
      "        .attr(\"transform\", \"translate(0,\" + height + \")\")\n",
      "        .call(xAxis);\n",
      "\n",
      "    svg.append(\"g\")\n",
      "        .attr(\"class\", \"y axis\")\n",
      "        .call(yAxis)\n",
      "        .append(\"text\")\n",
      "        .attr(\"transform\", \"rotate(-90)\")\n",
      "        .attr(\"y\", 6)\n",
      "        .attr(\"dy\", \"1.71em\")\n",
      "        .style(\"text-anchor\", \"end\")\n",
      "        .text(\"\");\n",
      "\n",
      "    svg.selectAll(\".bar\")\n",
      "        .data(data)\n",
      "        .enter().append(\"rect\")\n",
      "        .attr(\"class\", \"bar\")\n",
      "        .attr(\"x\", function(d) { return x(d.evc); })\n",
      "        .attr(\"width\", x.rangeBand())\n",
      "        .attr(\"y\", function(d) { return y(d.cum_var_expl) - 15; })\n",
      "        .attr(\"height\", function(d) { return height - y(d.cum_var_expl); });\n",
      "});\n",
      "\"\"\"\n",
      ")"
     ],
     "language": "python",
     "metadata": {},
     "outputs": [],
     "prompt_number": 10
    },
    {
     "cell_type": "code",
     "collapsed": false,
     "input": [
      "evc = NP.arange(25).tolist()\n",
      "q = sorted(NP.random.rand(25).tolist())\n",
      "d = list(zip(evc, q))"
     ],
     "language": "python",
     "metadata": {},
     "outputs": [],
     "prompt_number": 11
    },
    {
     "cell_type": "code",
     "collapsed": false,
     "input": [
      "display(\n",
      "    Javascript(\n",
      "        d3js_1_template.render(\n",
      "            data=d\n",
      "        )\n",
      "    )\n",
      ")"
     ],
     "language": "python",
     "metadata": {},
     "outputs": [
      {
       "javascript": [
        "\n",
        "require([\"d3\"], function(d3) {\n",
        "    var data = []\n",
        "\n",
        "    \n",
        "    data.push({ 'evc': '0', 'cum_var_expl': 0.00029283034843097244 });\n",
        "    \n",
        "    data.push({ 'evc': '1', 'cum_var_expl': 0.08730461910438292 });\n",
        "    \n",
        "    data.push({ 'evc': '2', 'cum_var_expl': 0.09269209496225861 });\n",
        "    \n",
        "    data.push({ 'evc': '3', 'cum_var_expl': 0.10663809950711589 });\n",
        "    \n",
        "    data.push({ 'evc': '4', 'cum_var_expl': 0.13848107262141351 });\n",
        "    \n",
        "    data.push({ 'evc': '5', 'cum_var_expl': 0.16423198019604168 });\n",
        "    \n",
        "    data.push({ 'evc': '6', 'cum_var_expl': 0.21363009758980633 });\n",
        "    \n",
        "    data.push({ 'evc': '7', 'cum_var_expl': 0.24051787038616734 });\n",
        "    \n",
        "    data.push({ 'evc': '8', 'cum_var_expl': 0.24139444266509358 });\n",
        "    \n",
        "    data.push({ 'evc': '9', 'cum_var_expl': 0.27485457556797566 });\n",
        "    \n",
        "    data.push({ 'evc': '10', 'cum_var_expl': 0.35958509475741485 });\n",
        "    \n",
        "    data.push({ 'evc': '11', 'cum_var_expl': 0.36929421376397753 });\n",
        "    \n",
        "    data.push({ 'evc': '12', 'cum_var_expl': 0.391097103611574 });\n",
        "    \n",
        "    data.push({ 'evc': '13', 'cum_var_expl': 0.41461829297255237 });\n",
        "    \n",
        "    data.push({ 'evc': '14', 'cum_var_expl': 0.47411996192771766 });\n",
        "    \n",
        "    data.push({ 'evc': '15', 'cum_var_expl': 0.5927397528366161 });\n",
        "    \n",
        "    data.push({ 'evc': '16', 'cum_var_expl': 0.6245500818698251 });\n",
        "    \n",
        "    data.push({ 'evc': '17', 'cum_var_expl': 0.6460934223750598 });\n",
        "    \n",
        "    data.push({ 'evc': '18', 'cum_var_expl': 0.676091376916069 });\n",
        "    \n",
        "    data.push({ 'evc': '19', 'cum_var_expl': 0.7228633154810833 });\n",
        "    \n",
        "    data.push({ 'evc': '20', 'cum_var_expl': 0.7330798947078326 });\n",
        "    \n",
        "    data.push({ 'evc': '21', 'cum_var_expl': 0.849508427944114 });\n",
        "    \n",
        "    data.push({ 'evc': '22', 'cum_var_expl': 0.9502354842788108 });\n",
        "    \n",
        "    data.push({ 'evc': '23', 'cum_var_expl': 0.9600105369512739 });\n",
        "    \n",
        "    data.push({ 'evc': '24', 'cum_var_expl': 0.9975546736777934 });\n",
        "    \n",
        "\n",
        "    d3.select(\"#chart_d3 svg\").remove()\n",
        "\n",
        "    var margin = {top: 20, right: 20, bottom: 30, left: 40},\n",
        "        width = 660 - margin.left - margin.right,\n",
        "        height = 400 - margin.top - margin.bottom;\n",
        "\n",
        "    var x = d3.scale.ordinal()\n",
        "        .rangeRoundBands([0, width], .25);\n",
        "\n",
        "    var y = d3.scale.linear()\n",
        "        .range([height, 0]);\n",
        "\n",
        "    var xAxis = d3.svg.axis()\n",
        "        .scale(x)\n",
        "        .orient(\"bottom\");\n",
        "\n",
        "    var yAxis = d3.svg.axis()\n",
        "        .scale(y)\n",
        "        .orient(\"left\")\n",
        "        .ticks(10)\n",
        "        \n",
        "    var svg = d3.select(\"#chart_d3\").append(\"svg\")\n",
        "        .attr(\"width\", width + margin.left + margin.right)\n",
        "        .attr(\"height\", height + margin.top + margin.bottom)\n",
        "        .append(\"g\")\n",
        "        .attr(\"transform\", \"translate(\" + margin.left + \",\" + margin.top + \")\");\n",
        "\n",
        "    x.domain(data.map(function(d) { return d.evc; }));\n",
        "    y.domain([0, d3.max(data, function(d) { return d.cum_var_expl; })]);\n",
        "\n",
        "    svg.append(\"g\")\n",
        "        .attr(\"class\", \"x axis\")\n",
        "        .attr(\"transform\", \"translate(0,\" + height + \")\")\n",
        "        .call(xAxis);\n",
        "\n",
        "    svg.append(\"g\")\n",
        "        .attr(\"class\", \"y axis\")\n",
        "        .call(yAxis)\n",
        "        .append(\"text\")\n",
        "        .attr(\"transform\", \"rotate(-90)\")\n",
        "        .attr(\"y\", 6)\n",
        "        .attr(\"dy\", \"1.71em\")\n",
        "        .style(\"text-anchor\", \"end\")\n",
        "        .text(\"\");\n",
        "\n",
        "    svg.selectAll(\".bar\")\n",
        "        .data(data)\n",
        "        .enter().append(\"rect\")\n",
        "        .attr(\"class\", \"bar\")\n",
        "        .attr(\"x\", function(d) { return x(d.evc); })\n",
        "        .attr(\"width\", x.rangeBand())\n",
        "        .attr(\"y\", function(d) { return y(d.cum_var_expl) - 15; })\n",
        "        .attr(\"height\", function(d) { return height - y(d.cum_var_expl); });\n",
        "});"
       ],
       "metadata": {},
       "output_type": "display_data",
       "text": [
        "<IPython.core.display.Javascript object>"
       ]
      }
     ],
     "prompt_number": 12
    },
    {
     "cell_type": "code",
     "collapsed": false,
     "input": [
      "s = \"\"\"<table>\n",
      "<tr>\n",
      "<th>Header 1</th>\n",
      "<th>Header 2</th>\n",
      "</tr>\n",
      "<tr>\n",
      "<td>row 1, cell 1</td>\n",
      "<td>row 1, cell 2</td>\n",
      "</tr>\n",
      "<tr>\n",
      "<td>row 2, cell 1</td>\n",
      "<td>row 2, cell 2</td>\n",
      "</tr>\n",
      "</table>\"\"\""
     ],
     "language": "python",
     "metadata": {},
     "outputs": [],
     "prompt_number": 13
    },
    {
     "cell_type": "code",
     "collapsed": false,
     "input": [
      "h = HTML(s);\n",
      "h"
     ],
     "language": "python",
     "metadata": {},
     "outputs": [
      {
       "html": [
        "<table>\n",
        "<tr>\n",
        "<th>Header 1</th>\n",
        "<th>Header 2</th>\n",
        "</tr>\n",
        "<tr>\n",
        "<td>row 1, cell 1</td>\n",
        "<td>row 1, cell 2</td>\n",
        "</tr>\n",
        "<tr>\n",
        "<td>row 2, cell 1</td>\n",
        "<td>row 2, cell 2</td>\n",
        "</tr>\n",
        "</table>"
       ],
       "metadata": {},
       "output_type": "pyout",
       "prompt_number": 14,
       "text": [
        "<IPython.core.display.HTML object>"
       ]
      }
     ],
     "prompt_number": 14
    },
    {
     "cell_type": "code",
     "collapsed": false,
     "input": [],
     "language": "python",
     "metadata": {},
     "outputs": []
    }
   ],
   "metadata": {}
  }
 ]
}