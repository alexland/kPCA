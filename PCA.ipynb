{
 "metadata": {
  "name": "",
  "signature": "sha256:8031de95054f3757e2b475b40447ed1610582b48a571afb9b0d6107f743fa7bf"
 },
 "nbformat": 3,
 "nbformat_minor": 0,
 "worksheets": [
  {
   "cells": [
    {
     "cell_type": "code",
     "collapsed": false,
     "input": [
      "import os\n",
      "import sys\n",
      "from math import ceil\n",
      "import jinja2\n",
      "import warnings\n",
      "from sympy import *\n",
      "import numpy as NP\n",
      "from scipy import linalg as LA\n",
      "# from scipy.sparse import linalg as LA\n",
      "from scipy.linalg import blas as BLAS\n",
      "\n",
      "from scipy.sparse import dok_matrix as DOK\n",
      "\n",
      "from collections import OrderedDict\n",
      "from json import dumps\n",
      "from IPython.html.widgets import interact\n",
      "from IPython.html import widgets\n",
      "from IPython.display import display, display_pretty, Javascript, HTML\n",
      "from IPython.utils.traitlets import Any, Bool, Dict, List, Unicode\n",
      "from threading import Lock\n",
      "from urllib.request import urlopen\n",
      "from IPython.display import display\n",
      "from sympy.interactive import printing\n",
      "printing.init_printing(use_latex='mathjax')\n",
      "\n",
      "%matplotlib inline\n",
      "import numpy as NP\n",
      "from matplotlib import pyplot as PLT\n",
      "\n",
      "from __future__ import division\n",
      "import sympy as SYM\n",
      "\n",
      "NP.set_printoptions(precision=3, suppress=True)\n",
      "warnings.filterwarnings(\"ignore\", \"ComplexWarning\")\n",
      "\n",
      "# vfrom sympy import init_printing\n",
      "# init_printing()\n",
      "\n",
      "%load_ext cythonmagic"
     ],
     "language": "python",
     "metadata": {},
     "outputs": [
      {
       "output_type": "stream",
       "stream": "stdout",
       "text": [
        "The cythonmagic extension is already loaded. To reload it, use:\n",
        "  %reload_ext cythonmagic\n"
       ]
      }
     ],
     "prompt_number": 15
    },
    {
     "cell_type": "code",
     "collapsed": false,
     "input": [
      "\n",
      "\n",
      "def str2num(t):\n",
      "    return ( int(t[0]), float(t[1]) )\n",
      "\n",
      "def parse_line(line):\n",
      "    '''\n",
      "    returns:\n",
      "        (i) score (scalar);\n",
      "        (ii) adjacency dict (one row in sparse 2D array)\n",
      "    pass in:\n",
      "    '''\n",
      "    S, tx = line.split(maxsplit=1)\n",
      "    tx = ( line.strip().split(':') for line in tx.split() )\n",
      "    return S, {k:v for k, v in map(str2num, tx)}\n",
      "\n",
      "\n",
      "def file_opener(data_file):\n",
      "    '''\n",
      "    returns:\n",
      "    pass in: data_file as str, relative path from 'User' dir\n",
      "    '''\n",
      "    dfile = os.path.expanduser(data_file)\n",
      "    with open(dfile, 'r', encoding='utf-8') as fh:\n",
      "        d = (line for line in fh.readlines())\n",
      "        d = (parse_line(line) for line in d)\n",
      "        d = list(d)\n",
      "    return d\n",
      "\n",
      "def data2sparse_array(data):\n",
      "    max_key_val = 0\n",
      "    for i in range(len(d)):\n",
      "        k = max(d[i][1].keys())\n",
      "        if k > max_key_val:\n",
      "            max_key_val = k\n",
      "        ncols = max_key_val\n",
      "        nrows = len(d)\n",
      "    D = DOK((nrows, ncols), dtype=float)\n",
      "    S = NP.empty((nrows, 1))\n",
      "    for i in range(nrows):\n",
      "        s, adict = d[i]\n",
      "        S[i] = s\n",
      "    for j in range(ncols):\n",
      "        D[i,j] = adict.get(j) \n",
      "\n",
      "        "
     ],
     "language": "python",
     "metadata": {},
     "outputs": [],
     "prompt_number": 16
    },
    {
     "cell_type": "code",
     "collapsed": false,
     "input": [
      "data_file = os.path.expanduser('~/Projects/kPCA/data/authorship.csv')\n",
      "\n",
      "def data_in(dfile):\n",
      "    '''\n",
      "    returns:\n",
      "        (i) data as 2D numpy array\n",
      "        (ii) column headers as python list of strings\n",
      "        (iii) look-up table, to translate class labels back to \n",
      "            string representations\n",
      "    pass in:\n",
      "    '''\n",
      "    with open(dfile, 'r', encoding='utf-8') as fh:\n",
      "        d = [line.strip().split(',') for line in fh.readlines()]\n",
      "    col_headers = d.pop(0)\n",
      "    cl = [line[-1] for line in d]\n",
      "    d = NP.array([list(map(int, line[:-1])) for line in d])\n",
      "    scl = set(cl)\n",
      "    LuT = {k:v for k, v in zip(scl, range(len(scl)))}\n",
      "    cl = NP.array([LuT[label] for label in cl])\n",
      "    cl = cl.reshape(-1, 1)\n",
      "    d = NP.hstack((d, cl))\n",
      "    idx = NP.arange(d.shape[0])\n",
      "    NP.random.shuffle(idx)\n",
      "    d = d[idx,]\n",
      "    return d, col_headers, LuT"
     ],
     "language": "python",
     "metadata": {},
     "outputs": [],
     "prompt_number": 71
    },
    {
     "cell_type": "markdown",
     "metadata": {},
     "source": [
      "Three approaches to *Dimension Reduction*:\n",
      "\n",
      "* feature selection: iterate thorugh the features and eliminate those uncorrelated with the output (explanatory) variable;\n",
      "\n",
      "* clustering: if groups of data points can be reliably identifyed by some clustering technique then this suggests that fewer features can be used to separate the data\n",
      "\n",
      "* feature derivation: via some sort of transformation, derive new features from the old ones"
     ]
    },
    {
     "cell_type": "markdown",
     "metadata": {},
     "source": [
      "PCA/LDA"
     ]
    },
    {
     "cell_type": "markdown",
     "metadata": {},
     "source": [
      "LDA here is _Linear Discriminant Analysis_ and not _Latent Dirichlet Allocation_; i have read textbooks that explain both LDA and PCA without mentioning any connection between the two (other than perhaps that they are both dimension-reduction techniques); however, on a practical level LDA is just PCA in which the response variable column (class labels/scores) are kept on the 2D array passed in."
     ]
    },
    {
     "cell_type": "code",
     "collapsed": false,
     "input": [
      "def PCA(D, EV=0, LDA=0):\n",
      "    '''\n",
      "    pass in: \n",
      "        (i) a raw data array--features encoded in the cols;\n",
      "            one data instance per row; \n",
      "        (ii) EV, explanatory variable, is included in D as last column;\n",
      "        (iii) the LDA flag is set to False so PCA is the default techique;\n",
      "            if both LDA & EV are set to True then LDA is performed\n",
      "            instead of PCA\n",
      "    returns:\n",
      "        (i) eigenvalues (1D array);\n",
      "        (ii) eigenvectors (2D array)\n",
      "        (iii) covariance matrix\n",
      "        \n",
      "    some numerical assertions:\n",
      "    \n",
      "    >>> # sum of the eigenvalues is equal to trace of R    \n",
      "    >>> x = R.trace()\n",
      "    >>> x1 = eva.sum()\n",
      "    >>> NP.allclose(x, x1)\n",
      "    True\n",
      "    \n",
      "    >>> # determinant of R is product of eigenvalues\n",
      "    >>> q = LA.det(R)\n",
      "    >>> q1 = NP.prod(eva)\n",
      "    >>> NP.allclose(q, q1)\n",
      "    True\n",
      "    '''\n",
      "    if not (LDA & EV):\n",
      "        D, EV = NP.hsplit(D, [-1])\n",
      "    D -= D.mean(axis=0)\n",
      "    R = NP.corrcoef(D, rowvar=False)\n",
      "    eva, evc = LA.eig(R)\n",
      "    eva = eva.real\n",
      "    idx = NP.argsort(eva)[::-1]\n",
      "    evc = evc[:,idx]\n",
      "    eva = eva[idx]\n",
      "    return eva, evc, R\n",
      "    "
     ],
     "language": "python",
     "metadata": {},
     "outputs": [],
     "prompt_number": 72
    },
    {
     "cell_type": "markdown",
     "metadata": {},
     "source": [
      "get V-matrix like so:\n",
      "\n",
      "* set-up one system of equations (ax = b) for each eigenvalue--ie, for each eigenvalue, substitute it for each element in the main diagonal of R (a)\n",
      "\n",
      "* set this modidfied R x a column-array of variables (x) equal to a column array of zeros (b) and solve for the column array of variables on the LHS\n",
      "\n",
      "* solving each of these systems gives one column in the V matrix"
     ]
    },
    {
     "cell_type": "code",
     "collapsed": false,
     "input": [
      "\n",
      "def get_null_space(v, eps=1e-10):\n",
      "    v = NP.matrix(v)\n",
      "    u, s, vh = LA.svd(v)\n",
      "    null_space = vh.compress(s>=eps, axis=0)\n",
      "    return null_space.T.squeeze()\n",
      "\n",
      "def solve_sim_eq(one_eva, R):\n",
      "    '''\n",
      "    setting up sytem of equations, ax=b;\n",
      "        one sytem for each eigenvalue\n",
      "    '''\n",
      "    a = R.copy()\n",
      "    x = NP.zeros_like(R)\n",
      "    NP.fill_diagonal(x, one_eva)\n",
      "    a -= x\n",
      "    b = NP.zeros(a.shape[1])\n",
      "    x = LA.lstsq(a, b)\n",
      "    for soln in x:\n",
      "        # remove solutions that are 0, [], [0, 0, ...], etc.\n",
      "        if isinstance(soln, NP.ndarray) and soln.all() and (soln.size != 0):\n",
      "            return soln\n",
      "        \n",
      "def get_vmatrix(eva, R):\n",
      "    '''\n",
      "    >>> V = get_vmatrix(eva, R)\n",
      "    >>> assert V.shape == R.shape\n",
      "    '''\n",
      "    V = NP.empty_like(R)\n",
      "    for i in range(eva.shape[0]):\n",
      "        col_v = solve_sim_eq(eva[i], R)\n",
      "        V[:,i] = get_null_space(col_v)\n",
      "    return V"
     ],
     "language": "python",
     "metadata": {},
     "outputs": [],
     "prompt_number": 73
    },
    {
     "cell_type": "markdown",
     "metadata": {},
     "source": [
      "form the L12 matrix"
     ]
    },
    {
     "cell_type": "code",
     "collapsed": false,
     "input": [
      "\n",
      "def get_L12(eva):\n",
      "    '''\n",
      "    returns:\n",
      "    pass in:\n",
      "    L1/2 (written w/ '1/2' as L superscript) is a diagonal matrix whose elements are the square\n",
      "        roots of the eigenvalues of R\n",
      "    '''\n",
      "    return NP.diag(NP.sqrt(eva))\n"
     ],
     "language": "python",
     "metadata": {},
     "outputs": [],
     "prompt_number": 74
    },
    {
     "cell_type": "markdown",
     "metadata": {},
     "source": [
      "calculate the Factor Structure, S = V * L12"
     ]
    },
    {
     "cell_type": "code",
     "collapsed": false,
     "input": [
      "\n",
      "def get_factor_structure(V, L12):\n",
      "    return BLAS.dgemm(alpha=1.0, a=V, b=L12, trans_b=False)"
     ],
     "language": "python",
     "metadata": {},
     "outputs": [],
     "prompt_number": 75
    },
    {
     "cell_type": "markdown",
     "metadata": {},
     "source": [
      "form communality"
     ]
    },
    {
     "cell_type": "code",
     "collapsed": false,
     "input": [
      "\n",
      "def get_communality(S, num_eigenvals):\n",
      "    '''\n",
      "    pass in:\n",
      "    returns: communality vector, C, 1D array len is equal to # featurs\n",
      "        in original 2D data array;\n",
      "    pass in:\n",
      "        factor structure array, S\n",
      "    '''\n",
      "    s1 = S[:,:num_eigenvals]\n",
      "    c = BLAS.dgemm(alpha=1.0, a=s1, b=s1.T, trans_b=False)\n",
      "    return NP.diag(c)\n"
     ],
     "language": "python",
     "metadata": {},
     "outputs": [],
     "prompt_number": 81
    },
    {
     "cell_type": "code",
     "collapsed": false,
     "input": [
      "%doctest_mode"
     ],
     "language": "python",
     "metadata": {},
     "outputs": [
      {
       "output_type": "stream",
       "stream": "stdout",
       "text": [
        "Exception reporting mode: Context\n",
        "Doctest mode is: OFF\n"
       ]
      }
     ],
     "prompt_number": 82
    },
    {
     "cell_type": "code",
     "collapsed": false,
     "input": [
      "d, col_headers, LuT = data_in(data_file)\n",
      "\n",
      "eva, evc, R = PCA(d)"
     ],
     "language": "python",
     "metadata": {},
     "outputs": [],
     "prompt_number": 83
    },
    {
     "cell_type": "code",
     "collapsed": false,
     "input": [
      "eva, evc, R = PCA(d)\n",
      "V = get_vmatrix(eva, R)\n",
      "L12 = get_L12(eva)\n",
      "S = get_factor_structure(V, L12)\n",
      "C = get_communality(S, num_eigenvals=7)\n",
      "\n",
      "print(S.shape)"
     ],
     "language": "python",
     "metadata": {},
     "outputs": [
      {
       "output_type": "stream",
       "stream": "stdout",
       "text": [
        "(70, 70)\n"
       ]
      }
     ],
     "prompt_number": 91
    },
    {
     "cell_type": "code",
     "collapsed": false,
     "input": [
      "c = get_communality(S, num_eigenvals=7)\n",
      "\n",
      "print(c[:10])"
     ],
     "language": "python",
     "metadata": {},
     "outputs": [
      {
       "output_type": "stream",
       "stream": "stdout",
       "text": [
        "[ 2.831  1.766  1.067  0.653  0.486  0.458  0.436  0.406  0.391  0.376]\n"
       ]
      }
     ],
     "prompt_number": 104
    },
    {
     "cell_type": "code",
     "collapsed": false,
     "input": [
      "def print_communality(c, num_features, num_eigenvalues):\n",
      "    s = '''the first {} principal components explain {:.2f}% of feature {}'''\n",
      "    for i in range(num_features):\n",
      "        print(s.format(num_eigenvalues, c[i]*100, i+1))"
     ],
     "language": "python",
     "metadata": {},
     "outputs": [],
     "prompt_number": 102
    },
    {
     "cell_type": "code",
     "collapsed": false,
     "input": [
      "print_communality(c, 5, 7)"
     ],
     "language": "python",
     "metadata": {},
     "outputs": [
      {
       "output_type": "stream",
       "stream": "stdout",
       "text": [
        "the first 7 principal components explain 283.07% of feature 1\n",
        "the first 7 principal components explain 176.62% of feature 2\n",
        "the first 7 principal components explain 106.74% of feature 3\n",
        "the first 7 principal components explain 65.28% of feature 4\n",
        "the first 7 principal components explain 48.62% of feature 5\n"
       ]
      }
     ],
     "prompt_number": 103
    },
    {
     "cell_type": "code",
     "collapsed": false,
     "input": [
      "# variance explained:\n",
      "\n",
      "def eigenvalue_variance_display(eva):\n",
      "    eva = eva/eva.sum()\n",
      "    eva_cs = eva.cumsum()\n",
      "    s = 'eigenvalue        value%'\n",
      "    s1 = '_' * len(s)\n",
      "    print(s)\n",
      "    print(s1)\n",
      "    for i in range(eva.shape[0]):\n",
      "        print( '{:^10.3f} {:^20.2f}'.format(eva[i], eva_cs[i]) )\n",
      "\n",
      "eigenvalue_variance_display(eva)"
     ],
     "language": "python",
     "metadata": {},
     "outputs": [
      {
       "output_type": "stream",
       "stream": "stdout",
       "text": [
        "eigenvalue        value%\n",
        "________________________\n",
        "  0.326            0.33        \n",
        "  0.226            0.55        \n",
        "  0.154            0.71        \n",
        "  0.100            0.81        \n",
        "  0.070            0.88        \n",
        "  0.065            0.94        \n",
        "  0.059            1.00        \n"
       ]
      }
     ],
     "prompt_number": 199
    },
    {
     "cell_type": "code",
     "collapsed": false,
     "input": [
      "eigenvals, eigenvecs = eva.copy(), evc.copy()\n",
      "eigenvecs = NP.array(eigenvecs).T\n",
      "\n",
      "for i in range(eigenvals.shape[0]):\n",
      "    print(\"{:^15.3f}\".format(eigenvals[i]))"
     ],
     "language": "python",
     "metadata": {},
     "outputs": [
      {
       "output_type": "stream",
       "stream": "stdout",
       "text": [
        "     8.748     \n",
        "     6.062     \n",
        "     4.121     \n",
        "     2.679     \n",
        "     1.871     \n",
        "     1.729     \n",
        "     1.585     \n"
       ]
      }
     ],
     "prompt_number": 200
    },
    {
     "cell_type": "markdown",
     "metadata": {},
     "source": [
      "_Kernelized PCA_"
     ]
    },
    {
     "cell_type": "code",
     "collapsed": false,
     "input": [
      "def get_pairwise_distance(M):\n",
      "    del_col = NP.zeros((M.shape[0], 1))\n",
      "    for col in M.T:\n",
      "        col = col.reshape(-1, 1)\n",
      "        del_col = col - col.T\n",
      "        del_col = del_col**2\n",
      "        del_col += del_col\n",
      "    return del_col**.5\n",
      "\n",
      "\n",
      "def kernelize(dm, kernel, params=NP.array([3, 2])) :\n",
      "    if kernel == 'linear':\n",
      "        return NP.dot(dm, dm.T)\n",
      "    elif kernel == 'polynomial':\n",
      "        p1, p2 = params\n",
      "        return NP.dot(dm, dm.T) + p1**p2\n",
      "\n",
      "    \n",
      "def kPCA(M, kernel, k='use_default'):\n",
      "    if k == 'use_default':\n",
      "        k = ceil(.3*M.shape[1])\n",
      "    m, n = M.shape\n",
      "    DM = pairwise_distance(M)\n",
      "    K = kernelize(DM, kernel)\n",
      "    eva, evc = LA.eigsh(K, k)\n",
      "    evc /= eva**.5\n",
      "    eva = NP.array(eva, dtype=float)\n",
      "    idx = NP.argsort(eva)[::-1]\n",
      "    eva = eva[idx,]\n",
      "    evc = evc[:,idx]\n",
      "    return kM, eva, evc"
     ],
     "language": "python",
     "metadata": {},
     "outputs": [],
     "prompt_number": 250
    },
    {
     "cell_type": "code",
     "collapsed": false,
     "input": [
      "\n",
      "s1 = '''the first {} principal components explain {}% of feature {}'''\n",
      "\n",
      "# for i in range(C):\n",
      "#    print(s1.format(k, C[i], i))"
     ],
     "language": "python",
     "metadata": {},
     "outputs": [],
     "prompt_number": 170
    },
    {
     "cell_type": "code",
     "collapsed": false,
     "input": [
      "x = SYM.Symbol('x')\n",
      "(pi + x)**2"
     ],
     "language": "python",
     "metadata": {},
     "outputs": [
      {
       "latex": [
        "$$\\left(x + \\pi\\right)^{2}$$"
       ],
       "metadata": {},
       "output_type": "pyout",
       "prompt_number": 171,
       "text": [
        "       2\n",
        "(x + \u03c0) "
       ]
      }
     ],
     "prompt_number": 171
    },
    {
     "cell_type": "code",
     "collapsed": false,
     "input": [
      "%%javascript\n",
      "require.config({\n",
      "    paths: {\n",
      "        d3: '//cdnjs.cloudflare.com/ajax/libs/d3/3.4.8/d3.min'\n",
      "    }\n",
      "});"
     ],
     "language": "python",
     "metadata": {},
     "outputs": [
      {
       "javascript": [
        "require.config({\n",
        "    paths: {\n",
        "        d3: '//cdnjs.cloudflare.com/ajax/libs/d3/3.4.8/d3.min'\n",
        "    }\n",
        "});"
       ],
       "metadata": {},
       "output_type": "display_data",
       "text": [
        "<IPython.core.display.Javascript at 0x113f91ba8>"
       ]
      }
     ],
     "prompt_number": 172
    },
    {
     "cell_type": "code",
     "collapsed": false,
     "input": [
      "display(HTML(\"\"\"\n",
      "<style>\n",
      ".bar {\n",
      "    fill: #ED872D;\n",
      "} \n",
      "\n",
      ".bar:hover {\n",
      "    fill: #003366;\n",
      "}\n",
      "\n",
      ".axis {\n",
      "    font: 11px sans-serif;\n",
      "    fill: #28589C;\n",
      "}\n",
      "\n",
      ".axis path, .axis line {\n",
      "    fill: none;\n",
      "    stroke: #A9A9A9;\n",
      "}\n",
      ".x.axis path {\n",
      "    display: none;\n",
      "}\n",
      "\n",
      "</style>\n",
      "<div id=\"chart_d3\"/>\n",
      "\"\"\"))"
     ],
     "language": "python",
     "metadata": {},
     "outputs": [
      {
       "html": [
        "\n",
        "<style>\n",
        ".bar {\n",
        "    fill: #ED872D;\n",
        "} \n",
        "\n",
        ".bar:hover {\n",
        "    fill: #003366;\n",
        "}\n",
        "\n",
        ".axis {\n",
        "    font: 11px sans-serif;\n",
        "    fill: #28589C;\n",
        "}\n",
        "\n",
        ".axis path, .axis line {\n",
        "    fill: none;\n",
        "    stroke: #A9A9A9;\n",
        "}\n",
        ".x.axis path {\n",
        "    display: none;\n",
        "}\n",
        "\n",
        "</style>\n",
        "<div id=\"chart_d3\"/>\n"
       ],
       "metadata": {},
       "output_type": "display_data",
       "text": [
        "<IPython.core.display.HTML at 0x119cc1080>"
       ]
      }
     ],
     "prompt_number": 193
    },
    {
     "cell_type": "code",
     "collapsed": false,
     "input": [
      "d3js_1_template = jinja2.Template(\n",
      "\"\"\"\n",
      "require([\"d3\"], function(d3) {\n",
      "    var data = []\n",
      "\n",
      "    {% for row in data %}\n",
      "    data.push({ 'evc': '{{ row[0] }}', 'cum_var_expl': {{ row[1] }} });\n",
      "    {% endfor %}\n",
      "\n",
      "    d3.select(\"#chart_d3 svg\").remove()\n",
      "\n",
      "    var margin = {top: 20, right: 20, bottom: 30, left: 40},\n",
      "        width = 660 - margin.left - margin.right,\n",
      "        height = 400 - margin.top - margin.bottom;\n",
      "\n",
      "    var x = d3.scale.ordinal()\n",
      "        .rangeRoundBands([0, width], .25);\n",
      "\n",
      "    var y = d3.scale.linear()\n",
      "        .range([height, 0]);\n",
      "\n",
      "    var xAxis = d3.svg.axis()\n",
      "        .scale(x)\n",
      "        .orient(\"bottom\");\n",
      "\n",
      "    var yAxis = d3.svg.axis()\n",
      "        .scale(y)\n",
      "        .orient(\"left\")\n",
      "        .ticks(10)\n",
      "        \n",
      "    var svg = d3.select(\"#chart_d3\").append(\"svg\")\n",
      "        .attr(\"width\", width + margin.left + margin.right)\n",
      "        .attr(\"height\", height + margin.top + margin.bottom)\n",
      "        .append(\"g\")\n",
      "        .attr(\"transform\", \"translate(\" + margin.left + \",\" + margin.top + \")\");\n",
      "\n",
      "    x.domain(data.map(function(d) { return d.evc; }));\n",
      "    y.domain([0, d3.max(data, function(d) { return d.cum_var_expl; })]);\n",
      "\n",
      "    svg.append(\"g\")\n",
      "        .attr(\"class\", \"x axis\")\n",
      "        .attr(\"transform\", \"translate(0,\" + height + \")\")\n",
      "        .call(xAxis);\n",
      "\n",
      "    svg.append(\"g\")\n",
      "        .attr(\"class\", \"y axis\")\n",
      "        .call(yAxis)\n",
      "        .append(\"text\")\n",
      "        .attr(\"transform\", \"rotate(-90)\")\n",
      "        .attr(\"y\", 6)\n",
      "        .attr(\"dy\", \"1.71em\")\n",
      "        .style(\"text-anchor\", \"end\")\n",
      "        .text(\"\");\n",
      "\n",
      "    svg.selectAll(\".bar\")\n",
      "        .data(data)\n",
      "        .enter().append(\"rect\")\n",
      "        .attr(\"class\", \"bar\")\n",
      "        .attr(\"x\", function(d) { return x(d.evc); })\n",
      "        .attr(\"width\", x.rangeBand())\n",
      "        .attr(\"y\", function(d) { return y(d.cum_var_expl)-15; })\n",
      "        .attr(\"height\", function(d) { return height - y(d.evc); });\n",
      "});\n",
      "\"\"\"\n",
      ")"
     ],
     "language": "python",
     "metadata": {},
     "outputs": [],
     "prompt_number": 194
    },
    {
     "cell_type": "code",
     "collapsed": false,
     "input": [
      "evc = NP.arange(25).tolist()\n",
      "q = sorted(NP.random.rand(25).tolist())\n",
      "d = list(zip(evc, q))"
     ],
     "language": "python",
     "metadata": {},
     "outputs": [],
     "prompt_number": 195
    },
    {
     "cell_type": "code",
     "collapsed": false,
     "input": [
      "display(\n",
      "    Javascript(\n",
      "        d3js_1_template.render(\n",
      "            data=d\n",
      "        )\n",
      "    )\n",
      ")"
     ],
     "language": "python",
     "metadata": {},
     "outputs": [
      {
       "javascript": [
        "\n",
        "require([\"d3\"], function(d3) {\n",
        "    var data = []\n",
        "\n",
        "    \n",
        "    data.push({ 'evc': '0', 'cum_var_expl': 0.030977284592433096 });\n",
        "    \n",
        "    data.push({ 'evc': '1', 'cum_var_expl': 0.06308098083291547 });\n",
        "    \n",
        "    data.push({ 'evc': '2', 'cum_var_expl': 0.09393698220786573 });\n",
        "    \n",
        "    data.push({ 'evc': '3', 'cum_var_expl': 0.18260594398873664 });\n",
        "    \n",
        "    data.push({ 'evc': '4', 'cum_var_expl': 0.21251635822544546 });\n",
        "    \n",
        "    data.push({ 'evc': '5', 'cum_var_expl': 0.24123364250857027 });\n",
        "    \n",
        "    data.push({ 'evc': '6', 'cum_var_expl': 0.29654911079113655 });\n",
        "    \n",
        "    data.push({ 'evc': '7', 'cum_var_expl': 0.41479396048638595 });\n",
        "    \n",
        "    data.push({ 'evc': '8', 'cum_var_expl': 0.5102012485530991 });\n",
        "    \n",
        "    data.push({ 'evc': '9', 'cum_var_expl': 0.512854948401582 });\n",
        "    \n",
        "    data.push({ 'evc': '10', 'cum_var_expl': 0.5455498189178954 });\n",
        "    \n",
        "    data.push({ 'evc': '11', 'cum_var_expl': 0.5523997029875364 });\n",
        "    \n",
        "    data.push({ 'evc': '12', 'cum_var_expl': 0.6013826984950625 });\n",
        "    \n",
        "    data.push({ 'evc': '13', 'cum_var_expl': 0.6158265495750881 });\n",
        "    \n",
        "    data.push({ 'evc': '14', 'cum_var_expl': 0.6202880656658262 });\n",
        "    \n",
        "    data.push({ 'evc': '15', 'cum_var_expl': 0.6332101602916808 });\n",
        "    \n",
        "    data.push({ 'evc': '16', 'cum_var_expl': 0.6739280183665487 });\n",
        "    \n",
        "    data.push({ 'evc': '17', 'cum_var_expl': 0.7371306874025271 });\n",
        "    \n",
        "    data.push({ 'evc': '18', 'cum_var_expl': 0.7611520870165173 });\n",
        "    \n",
        "    data.push({ 'evc': '19', 'cum_var_expl': 0.7973254545836098 });\n",
        "    \n",
        "    data.push({ 'evc': '20', 'cum_var_expl': 0.9150096627436415 });\n",
        "    \n",
        "    data.push({ 'evc': '21', 'cum_var_expl': 0.9378630062650187 });\n",
        "    \n",
        "    data.push({ 'evc': '22', 'cum_var_expl': 0.9655445421771078 });\n",
        "    \n",
        "    data.push({ 'evc': '23', 'cum_var_expl': 0.9820377515356054 });\n",
        "    \n",
        "    data.push({ 'evc': '24', 'cum_var_expl': 0.9886414310166773 });\n",
        "    \n",
        "\n",
        "    d3.select(\"#chart_d3 svg\").remove()\n",
        "\n",
        "    var margin = {top: 20, right: 20, bottom: 30, left: 40},\n",
        "        width = 660 - margin.left - margin.right,\n",
        "        height = 400 - margin.top - margin.bottom;\n",
        "\n",
        "    var x = d3.scale.ordinal()\n",
        "        .rangeRoundBands([0, width], .25);\n",
        "\n",
        "    var y = d3.scale.linear()\n",
        "        .range([height, 0]);\n",
        "\n",
        "    var xAxis = d3.svg.axis()\n",
        "        .scale(x)\n",
        "        .orient(\"bottom\");\n",
        "\n",
        "    var yAxis = d3.svg.axis()\n",
        "        .scale(y)\n",
        "        .orient(\"left\")\n",
        "        .ticks(10)\n",
        "        \n",
        "    var svg = d3.select(\"#chart_d3\").append(\"svg\")\n",
        "        .attr(\"width\", width + margin.left + margin.right)\n",
        "        .attr(\"height\", height + margin.top + margin.bottom)\n",
        "        .append(\"g\")\n",
        "        .attr(\"transform\", \"translate(\" + margin.left + \",\" + margin.top + \")\");\n",
        "\n",
        "    x.domain(data.map(function(d) { return d.evc; }));\n",
        "    y.domain([0, d3.max(data, function(d) { return d.cum_var_expl; })]);\n",
        "\n",
        "    svg.append(\"g\")\n",
        "        .attr(\"class\", \"x axis\")\n",
        "        .attr(\"transform\", \"translate(0,\" + height + \")\")\n",
        "        .call(xAxis);\n",
        "\n",
        "    svg.append(\"g\")\n",
        "        .attr(\"class\", \"y axis\")\n",
        "        .call(yAxis)\n",
        "        .append(\"text\")\n",
        "        .attr(\"transform\", \"rotate(-90)\")\n",
        "        .attr(\"y\", 6)\n",
        "        .attr(\"dy\", \"1.71em\")\n",
        "        .style(\"text-anchor\", \"end\")\n",
        "        .text(\"\");\n",
        "\n",
        "    svg.selectAll(\".bar\")\n",
        "        .data(data)\n",
        "        .enter().append(\"rect\")\n",
        "        .attr(\"class\", \"bar\")\n",
        "        .attr(\"x\", function(d) { return x(d.evc); })\n",
        "        .attr(\"width\", x.rangeBand())\n",
        "        .attr(\"y\", function(d) { return y(d.cum_var_expl)-15; })\n",
        "        .attr(\"height\", function(d) { return height - y(d.evc); });\n",
        "});"
       ],
       "metadata": {},
       "output_type": "display_data",
       "text": [
        "<IPython.core.display.Javascript at 0x10d1a59b0>"
       ]
      }
     ],
     "prompt_number": 196
    },
    {
     "cell_type": "code",
     "collapsed": false,
     "input": [],
     "language": "python",
     "metadata": {},
     "outputs": [],
     "prompt_number": 192
    },
    {
     "cell_type": "code",
     "collapsed": false,
     "input": [],
     "language": "python",
     "metadata": {},
     "outputs": [],
     "prompt_number": 176
    },
    {
     "cell_type": "code",
     "collapsed": false,
     "input": [],
     "language": "python",
     "metadata": {},
     "outputs": []
    }
   ],
   "metadata": {}
  }
 ]
}